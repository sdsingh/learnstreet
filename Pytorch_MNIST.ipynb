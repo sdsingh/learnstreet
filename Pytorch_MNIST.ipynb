{
  "nbformat": 4,
  "nbformat_minor": 0,
  "metadata": {
    "colab": {
      "name": "Pytorch MNIST.ipynb",
      "provenance": [],
      "include_colab_link": true
    },
    "kernelspec": {
      "name": "python3",
      "display_name": "Python 3"
    },
    "accelerator": "GPU"
  },
  "cells": [
    {
      "cell_type": "markdown",
      "metadata": {
        "id": "view-in-github",
        "colab_type": "text"
      },
      "source": [
        "<a href=\"https://colab.research.google.com/github/sdsingh/learnstreet/blob/master/Pytorch_MNIST.ipynb\" target=\"_parent\"><img src=\"https://colab.research.google.com/assets/colab-badge.svg\" alt=\"Open In Colab\"/></a>"
      ]
    },
    {
      "metadata": {
        "id": "PtKvmZx-WmUu",
        "colab": {
          "base_uri": "https://localhost:8080/"
        },
        "outputId": "caf4f2b4-d567-4b30-8194-4ae923a70090"
      },
      "cell_type": "code",
      "source": [
        "#@title Installing Pyorch\n",
        "\n",
        "!pip install torch\n",
        "!pip install torchvision"
      ],
      "execution_count": 171,
      "outputs": [
        {
          "output_type": "stream",
          "name": "stdout",
          "text": [
            "Requirement already satisfied: torch in /usr/local/lib/python3.10/dist-packages (2.5.0+cu121)\n",
            "Requirement already satisfied: filelock in /usr/local/lib/python3.10/dist-packages (from torch) (3.16.1)\n",
            "Requirement already satisfied: typing-extensions>=4.8.0 in /usr/local/lib/python3.10/dist-packages (from torch) (4.12.2)\n",
            "Requirement already satisfied: networkx in /usr/local/lib/python3.10/dist-packages (from torch) (3.4.2)\n",
            "Requirement already satisfied: jinja2 in /usr/local/lib/python3.10/dist-packages (from torch) (3.1.4)\n",
            "Requirement already satisfied: fsspec in /usr/local/lib/python3.10/dist-packages (from torch) (2024.6.1)\n",
            "Requirement already satisfied: sympy==1.13.1 in /usr/local/lib/python3.10/dist-packages (from torch) (1.13.1)\n",
            "Requirement already satisfied: mpmath<1.4,>=1.1.0 in /usr/local/lib/python3.10/dist-packages (from sympy==1.13.1->torch) (1.3.0)\n",
            "Requirement already satisfied: MarkupSafe>=2.0 in /usr/local/lib/python3.10/dist-packages (from jinja2->torch) (3.0.2)\n",
            "Requirement already satisfied: torchvision in /usr/local/lib/python3.10/dist-packages (0.20.0+cu121)\n",
            "Requirement already satisfied: numpy in /usr/local/lib/python3.10/dist-packages (from torchvision) (1.26.4)\n",
            "Requirement already satisfied: torch==2.5.0 in /usr/local/lib/python3.10/dist-packages (from torchvision) (2.5.0+cu121)\n",
            "Requirement already satisfied: pillow!=8.3.*,>=5.3.0 in /usr/local/lib/python3.10/dist-packages (from torchvision) (10.4.0)\n",
            "Requirement already satisfied: filelock in /usr/local/lib/python3.10/dist-packages (from torch==2.5.0->torchvision) (3.16.1)\n",
            "Requirement already satisfied: typing-extensions>=4.8.0 in /usr/local/lib/python3.10/dist-packages (from torch==2.5.0->torchvision) (4.12.2)\n",
            "Requirement already satisfied: networkx in /usr/local/lib/python3.10/dist-packages (from torch==2.5.0->torchvision) (3.4.2)\n",
            "Requirement already satisfied: jinja2 in /usr/local/lib/python3.10/dist-packages (from torch==2.5.0->torchvision) (3.1.4)\n",
            "Requirement already satisfied: fsspec in /usr/local/lib/python3.10/dist-packages (from torch==2.5.0->torchvision) (2024.6.1)\n",
            "Requirement already satisfied: sympy==1.13.1 in /usr/local/lib/python3.10/dist-packages (from torch==2.5.0->torchvision) (1.13.1)\n",
            "Requirement already satisfied: mpmath<1.4,>=1.1.0 in /usr/local/lib/python3.10/dist-packages (from sympy==1.13.1->torch==2.5.0->torchvision) (1.3.0)\n",
            "Requirement already satisfied: MarkupSafe>=2.0 in /usr/local/lib/python3.10/dist-packages (from jinja2->torch==2.5.0->torchvision) (3.0.2)\n"
          ]
        }
      ]
    },
    {
      "metadata": {
        "id": "bGU6NwlsXFSt"
      },
      "cell_type": "code",
      "source": [
        "#@title Import Dependencies\n",
        "\n",
        "import torch\n",
        "import torch.nn as nn\n",
        "import torchvision.datasets as dsets\n",
        "import torchvision.transforms as transforms\n",
        "from torch.autograd import Variable"
      ],
      "execution_count": 172,
      "outputs": []
    },
    {
      "metadata": {
        "id": "_bNfVLRUYqZA"
      },
      "cell_type": "code",
      "source": [
        "#@title Define Hyperparameters\n",
        "\n",
        "input_size = 784 # img_size = (28,28) ---> 28*28=784 in total\n",
        "hidden_size = 500 # number of nodes at hidden layer\n",
        "num_classes = 10 # number of output classes discrete range [0,9]\n",
        "num_epochs = 20 # number of times which the entire dataset is passed throughout the model\n",
        "batch_size = 100 # the size of input data took for one iteration\n",
        "lr = 1e-3 # size of step"
      ],
      "execution_count": 173,
      "outputs": []
    },
    {
      "metadata": {
        "id": "lCsBCXMwbpH5",
        "colab": {
          "base_uri": "https://localhost:8080/"
        },
        "outputId": "c89957d8-168f-4c8e-fcc4-0cb3ed27374c"
      },
      "cell_type": "code",
      "source": [
        "#@title Downloading MNIST data\n",
        "\n",
        "train_data = dsets.MNIST(root = './data', train = True,\n",
        "                        transform = transforms.ToTensor(), download = True)\n",
        "\n",
        "test_data = dsets.MNIST(root = './data', train = False,\n",
        "                       transform = transforms.ToTensor())"
      ],
      "execution_count": 4,
      "outputs": [
        {
          "output_type": "stream",
          "name": "stdout",
          "text": [
            "Downloading http://yann.lecun.com/exdb/mnist/train-images-idx3-ubyte.gz\n",
            "Failed to download (trying next):\n",
            "<urlopen error [SSL: CERTIFICATE_VERIFY_FAILED] certificate verify failed: certificate has expired (_ssl.c:1007)>\n",
            "\n",
            "Downloading https://ossci-datasets.s3.amazonaws.com/mnist/train-images-idx3-ubyte.gz\n",
            "Downloading https://ossci-datasets.s3.amazonaws.com/mnist/train-images-idx3-ubyte.gz to ./data/MNIST/raw/train-images-idx3-ubyte.gz\n"
          ]
        },
        {
          "output_type": "stream",
          "name": "stderr",
          "text": [
            "100%|██████████| 9.91M/9.91M [00:10<00:00, 941kB/s] \n"
          ]
        },
        {
          "output_type": "stream",
          "name": "stdout",
          "text": [
            "Extracting ./data/MNIST/raw/train-images-idx3-ubyte.gz to ./data/MNIST/raw\n",
            "\n",
            "Downloading http://yann.lecun.com/exdb/mnist/train-labels-idx1-ubyte.gz\n",
            "Failed to download (trying next):\n",
            "<urlopen error [SSL: CERTIFICATE_VERIFY_FAILED] certificate verify failed: certificate has expired (_ssl.c:1007)>\n",
            "\n",
            "Downloading https://ossci-datasets.s3.amazonaws.com/mnist/train-labels-idx1-ubyte.gz\n",
            "Downloading https://ossci-datasets.s3.amazonaws.com/mnist/train-labels-idx1-ubyte.gz to ./data/MNIST/raw/train-labels-idx1-ubyte.gz\n"
          ]
        },
        {
          "output_type": "stream",
          "name": "stderr",
          "text": [
            "100%|██████████| 28.9k/28.9k [00:00<00:00, 135kB/s]\n"
          ]
        },
        {
          "output_type": "stream",
          "name": "stdout",
          "text": [
            "Extracting ./data/MNIST/raw/train-labels-idx1-ubyte.gz to ./data/MNIST/raw\n",
            "\n",
            "Downloading http://yann.lecun.com/exdb/mnist/t10k-images-idx3-ubyte.gz\n",
            "Failed to download (trying next):\n",
            "<urlopen error [SSL: CERTIFICATE_VERIFY_FAILED] certificate verify failed: certificate has expired (_ssl.c:1007)>\n",
            "\n",
            "Downloading https://ossci-datasets.s3.amazonaws.com/mnist/t10k-images-idx3-ubyte.gz\n",
            "Downloading https://ossci-datasets.s3.amazonaws.com/mnist/t10k-images-idx3-ubyte.gz to ./data/MNIST/raw/t10k-images-idx3-ubyte.gz\n"
          ]
        },
        {
          "output_type": "stream",
          "name": "stderr",
          "text": [
            "100%|██████████| 1.65M/1.65M [00:01<00:00, 1.11MB/s]\n"
          ]
        },
        {
          "output_type": "stream",
          "name": "stdout",
          "text": [
            "Extracting ./data/MNIST/raw/t10k-images-idx3-ubyte.gz to ./data/MNIST/raw\n",
            "\n",
            "Downloading http://yann.lecun.com/exdb/mnist/t10k-labels-idx1-ubyte.gz\n",
            "Failed to download (trying next):\n",
            "<urlopen error [SSL: CERTIFICATE_VERIFY_FAILED] certificate verify failed: certificate has expired (_ssl.c:1007)>\n",
            "\n",
            "Downloading https://ossci-datasets.s3.amazonaws.com/mnist/t10k-labels-idx1-ubyte.gz\n",
            "Downloading https://ossci-datasets.s3.amazonaws.com/mnist/t10k-labels-idx1-ubyte.gz to ./data/MNIST/raw/t10k-labels-idx1-ubyte.gz\n"
          ]
        },
        {
          "output_type": "stream",
          "name": "stderr",
          "text": [
            "100%|██████████| 4.54k/4.54k [00:00<00:00, 4.33MB/s]"
          ]
        },
        {
          "output_type": "stream",
          "name": "stdout",
          "text": [
            "Extracting ./data/MNIST/raw/t10k-labels-idx1-ubyte.gz to ./data/MNIST/raw\n",
            "\n"
          ]
        },
        {
          "output_type": "stream",
          "name": "stderr",
          "text": [
            "\n"
          ]
        }
      ]
    },
    {
      "cell_type": "code",
      "source": [
        "# data, targets. need to flatten train data.\n",
        "print(train_data.data.size())\n",
        "print(train_data.targets.size())"
      ],
      "metadata": {
        "colab": {
          "base_uri": "https://localhost:8080/"
        },
        "id": "v4CFUhhQJYqX",
        "outputId": "a03380d0-e9f0-48cc-9447-c8b06392e85c"
      },
      "execution_count": 174,
      "outputs": [
        {
          "output_type": "stream",
          "name": "stdout",
          "text": [
            "torch.Size([60000, 28, 28])\n",
            "torch.Size([60000])\n"
          ]
        }
      ]
    },
    {
      "metadata": {
        "id": "rfDPBdnYgfGp"
      },
      "cell_type": "code",
      "source": [
        "#@title Loading the data\n",
        "\n",
        "train_gen = torch.utils.data.DataLoader(dataset = train_data,\n",
        "                                             batch_size = batch_size,\n",
        "                                             shuffle = True)\n",
        "\n",
        "test_gen = torch.utils.data.DataLoader(dataset = test_data,\n",
        "                                      batch_size = batch_size,\n",
        "                                      shuffle = False)"
      ],
      "execution_count": 175,
      "outputs": []
    },
    {
      "metadata": {
        "id": "fL-YXTvghaz_"
      },
      "cell_type": "code",
      "source": [
        "#@title Define model class\n",
        "\n",
        "class Net(nn.Module):\n",
        "  def __init__(self, input_size, hidden_size, num_classes):\n",
        "    super(Net,self).__init__()\n",
        "    self.fc1 = nn.Linear(input_size, hidden_size)\n",
        "    self.relu = nn.ReLU()\n",
        "    self.fc2 = nn.Linear(hidden_size, num_classes)\n",
        "\n",
        "  def forward(self,x):\n",
        "    out = self.fc1(x)\n",
        "    out = self.relu(out)\n",
        "    out = self.fc2(out)\n",
        "    return out"
      ],
      "execution_count": 176,
      "outputs": []
    },
    {
      "metadata": {
        "id": "-3EPEqbjjfAT"
      },
      "cell_type": "code",
      "source": [
        "#@title Build the model\n",
        "\n",
        "net = Net(input_size, hidden_size, num_classes)\n",
        "if torch.cuda.is_available():\n",
        "  net.cuda()"
      ],
      "execution_count": 177,
      "outputs": []
    },
    {
      "metadata": {
        "id": "ePLIwvAFj2zH"
      },
      "cell_type": "code",
      "source": [
        "#@title Define loss-function & optimizer\n",
        "\n",
        "loss_function = nn.CrossEntropyLoss()\n",
        "optimizer = torch.optim.Adam(net.parameters(), lr=lr)"
      ],
      "execution_count": 178,
      "outputs": []
    },
    {
      "cell_type": "code",
      "source": [
        "# zips over X, Y. batch dim is unsqueezed.\n",
        "train_data[0][0].shape, train_data[0][1]"
      ],
      "metadata": {
        "colab": {
          "base_uri": "https://localhost:8080/"
        },
        "id": "gnS8lVi3LG2N",
        "outputId": "593541bd-6c90-444d-f435-cdb098100567"
      },
      "execution_count": 179,
      "outputs": [
        {
          "output_type": "execute_result",
          "data": {
            "text/plain": [
              "(torch.Size([1, 28, 28]), 5)"
            ]
          },
          "metadata": {},
          "execution_count": 179
        }
      ]
    },
    {
      "cell_type": "code",
      "source": [
        "# Batch size 100.\n",
        "# Why is the first dim still unsqueezed, wtf?\n",
        "it = iter(train_gen)\n",
        "batch = next(it)\n",
        "print(batch[0].shape, batch[1].shape)"
      ],
      "metadata": {
        "colab": {
          "base_uri": "https://localhost:8080/"
        },
        "id": "qKo8Wh-zLTz7",
        "outputId": "1a160908-01e4-40f7-a82c-9366b8461365"
      },
      "execution_count": 180,
      "outputs": [
        {
          "output_type": "stream",
          "name": "stdout",
          "text": [
            "torch.Size([100, 1, 28, 28]) torch.Size([100])\n"
          ]
        }
      ]
    },
    {
      "cell_type": "code",
      "source": [
        "# batch[0].view(-1,28*28).shape\n",
        "batch[0].squeeze().view(-1, 28*28)"
      ],
      "metadata": {
        "colab": {
          "base_uri": "https://localhost:8080/"
        },
        "id": "7NH2JcgLLr9f",
        "outputId": "578521aa-1365-41ee-f159-737af6070041"
      },
      "execution_count": 181,
      "outputs": [
        {
          "output_type": "execute_result",
          "data": {
            "text/plain": [
              "tensor([[0., 0., 0.,  ..., 0., 0., 0.],\n",
              "        [0., 0., 0.,  ..., 0., 0., 0.],\n",
              "        [0., 0., 0.,  ..., 0., 0., 0.],\n",
              "        ...,\n",
              "        [0., 0., 0.,  ..., 0., 0., 0.],\n",
              "        [0., 0., 0.,  ..., 0., 0., 0.],\n",
              "        [0., 0., 0.,  ..., 0., 0., 0.]])"
            ]
          },
          "metadata": {},
          "execution_count": 181
        }
      ]
    },
    {
      "metadata": {
        "id": "u75Xa5VckuTH",
        "colab": {
          "base_uri": "https://localhost:8080/"
        },
        "collapsed": true,
        "outputId": "2bf697a5-8f4f-4346-a9e7-a5f557d838cf"
      },
      "cell_type": "code",
      "source": [
        "#@title Training the model\n",
        "\n",
        "for epoch in range(num_epochs):\n",
        "  for i ,(images,labels) in enumerate(train_gen):\n",
        "    # images = images.view(-1,28*28).cuda()\n",
        "    # This is what I would've done, I don't quite get what view is doing here.\n",
        "    images = images.squeeze().view(-1,input_size).cuda()\n",
        "    labels = labels.cuda()\n",
        "\n",
        "    optimizer.zero_grad()\n",
        "    outputs = net(images)\n",
        "    loss = loss_function(outputs, labels)\n",
        "    loss.backward()\n",
        "    optimizer.step()\n",
        "\n",
        "    if (i+1) % 100 == 0:\n",
        "      print('Epoch [%d/%d], Step [%d/%d], Loss: %.4f'\n",
        "                 %(epoch+1, num_epochs, i+1, len(train_data)//batch_size, loss.item()))"
      ],
      "execution_count": 182,
      "outputs": [
        {
          "output_type": "stream",
          "name": "stdout",
          "text": [
            "Epoch [1/20], Step [100/600], Loss: 0.3725\n",
            "Epoch [1/20], Step [200/600], Loss: 0.3215\n",
            "Epoch [1/20], Step [300/600], Loss: 0.2335\n",
            "Epoch [1/20], Step [400/600], Loss: 0.1476\n",
            "Epoch [1/20], Step [500/600], Loss: 0.1539\n",
            "Epoch [1/20], Step [600/600], Loss: 0.2030\n",
            "Epoch [2/20], Step [100/600], Loss: 0.1003\n",
            "Epoch [2/20], Step [200/600], Loss: 0.0911\n",
            "Epoch [2/20], Step [300/600], Loss: 0.0862\n",
            "Epoch [2/20], Step [400/600], Loss: 0.1409\n",
            "Epoch [2/20], Step [500/600], Loss: 0.1142\n",
            "Epoch [2/20], Step [600/600], Loss: 0.0705\n",
            "Epoch [3/20], Step [100/600], Loss: 0.0806\n",
            "Epoch [3/20], Step [200/600], Loss: 0.0401\n",
            "Epoch [3/20], Step [300/600], Loss: 0.0271\n",
            "Epoch [3/20], Step [400/600], Loss: 0.1076\n",
            "Epoch [3/20], Step [500/600], Loss: 0.0502\n",
            "Epoch [3/20], Step [600/600], Loss: 0.0231\n",
            "Epoch [4/20], Step [100/600], Loss: 0.0361\n",
            "Epoch [4/20], Step [200/600], Loss: 0.0929\n",
            "Epoch [4/20], Step [300/600], Loss: 0.0164\n",
            "Epoch [4/20], Step [400/600], Loss: 0.0807\n",
            "Epoch [4/20], Step [500/600], Loss: 0.0242\n",
            "Epoch [4/20], Step [600/600], Loss: 0.0701\n",
            "Epoch [5/20], Step [100/600], Loss: 0.0396\n",
            "Epoch [5/20], Step [200/600], Loss: 0.0672\n",
            "Epoch [5/20], Step [300/600], Loss: 0.0248\n",
            "Epoch [5/20], Step [400/600], Loss: 0.0274\n",
            "Epoch [5/20], Step [500/600], Loss: 0.0209\n",
            "Epoch [5/20], Step [600/600], Loss: 0.0971\n",
            "Epoch [6/20], Step [100/600], Loss: 0.0289\n",
            "Epoch [6/20], Step [200/600], Loss: 0.0105\n",
            "Epoch [6/20], Step [300/600], Loss: 0.0096\n",
            "Epoch [6/20], Step [400/600], Loss: 0.0104\n",
            "Epoch [6/20], Step [500/600], Loss: 0.0213\n",
            "Epoch [6/20], Step [600/600], Loss: 0.0084\n",
            "Epoch [7/20], Step [100/600], Loss: 0.0431\n",
            "Epoch [7/20], Step [200/600], Loss: 0.0625\n",
            "Epoch [7/20], Step [300/600], Loss: 0.0406\n",
            "Epoch [7/20], Step [400/600], Loss: 0.0325\n",
            "Epoch [7/20], Step [500/600], Loss: 0.0108\n",
            "Epoch [7/20], Step [600/600], Loss: 0.0275\n",
            "Epoch [8/20], Step [100/600], Loss: 0.0213\n",
            "Epoch [8/20], Step [200/600], Loss: 0.0079\n",
            "Epoch [8/20], Step [300/600], Loss: 0.0037\n",
            "Epoch [8/20], Step [400/600], Loss: 0.0058\n",
            "Epoch [8/20], Step [500/600], Loss: 0.0289\n",
            "Epoch [8/20], Step [600/600], Loss: 0.0169\n",
            "Epoch [9/20], Step [100/600], Loss: 0.0028\n",
            "Epoch [9/20], Step [200/600], Loss: 0.0020\n",
            "Epoch [9/20], Step [300/600], Loss: 0.0018\n",
            "Epoch [9/20], Step [400/600], Loss: 0.0097\n",
            "Epoch [9/20], Step [500/600], Loss: 0.0138\n",
            "Epoch [9/20], Step [600/600], Loss: 0.0201\n",
            "Epoch [10/20], Step [100/600], Loss: 0.0010\n",
            "Epoch [10/20], Step [200/600], Loss: 0.0278\n",
            "Epoch [10/20], Step [300/600], Loss: 0.0135\n",
            "Epoch [10/20], Step [400/600], Loss: 0.0029\n",
            "Epoch [10/20], Step [500/600], Loss: 0.0044\n",
            "Epoch [10/20], Step [600/600], Loss: 0.0037\n",
            "Epoch [11/20], Step [100/600], Loss: 0.0025\n",
            "Epoch [11/20], Step [200/600], Loss: 0.0006\n",
            "Epoch [11/20], Step [300/600], Loss: 0.0131\n",
            "Epoch [11/20], Step [400/600], Loss: 0.0058\n",
            "Epoch [11/20], Step [500/600], Loss: 0.0076\n",
            "Epoch [11/20], Step [600/600], Loss: 0.0546\n",
            "Epoch [12/20], Step [100/600], Loss: 0.0047\n",
            "Epoch [12/20], Step [200/600], Loss: 0.0026\n",
            "Epoch [12/20], Step [300/600], Loss: 0.0013\n",
            "Epoch [12/20], Step [400/600], Loss: 0.0032\n",
            "Epoch [12/20], Step [500/600], Loss: 0.0051\n",
            "Epoch [12/20], Step [600/600], Loss: 0.0022\n",
            "Epoch [13/20], Step [100/600], Loss: 0.0048\n",
            "Epoch [13/20], Step [200/600], Loss: 0.0040\n",
            "Epoch [13/20], Step [300/600], Loss: 0.0253\n",
            "Epoch [13/20], Step [400/600], Loss: 0.0011\n",
            "Epoch [13/20], Step [500/600], Loss: 0.0306\n",
            "Epoch [13/20], Step [600/600], Loss: 0.0023\n",
            "Epoch [14/20], Step [100/600], Loss: 0.0066\n",
            "Epoch [14/20], Step [200/600], Loss: 0.0006\n",
            "Epoch [14/20], Step [300/600], Loss: 0.0039\n",
            "Epoch [14/20], Step [400/600], Loss: 0.0103\n",
            "Epoch [14/20], Step [500/600], Loss: 0.0113\n",
            "Epoch [14/20], Step [600/600], Loss: 0.0118\n",
            "Epoch [15/20], Step [100/600], Loss: 0.0062\n",
            "Epoch [15/20], Step [200/600], Loss: 0.0012\n",
            "Epoch [15/20], Step [300/600], Loss: 0.0123\n",
            "Epoch [15/20], Step [400/600], Loss: 0.0049\n",
            "Epoch [15/20], Step [500/600], Loss: 0.0259\n",
            "Epoch [15/20], Step [600/600], Loss: 0.0076\n",
            "Epoch [16/20], Step [100/600], Loss: 0.0007\n",
            "Epoch [16/20], Step [200/600], Loss: 0.0063\n",
            "Epoch [16/20], Step [300/600], Loss: 0.0059\n",
            "Epoch [16/20], Step [400/600], Loss: 0.0005\n",
            "Epoch [16/20], Step [500/600], Loss: 0.0045\n",
            "Epoch [16/20], Step [600/600], Loss: 0.0023\n",
            "Epoch [17/20], Step [100/600], Loss: 0.0014\n",
            "Epoch [17/20], Step [200/600], Loss: 0.0010\n",
            "Epoch [17/20], Step [300/600], Loss: 0.0006\n",
            "Epoch [17/20], Step [400/600], Loss: 0.0027\n",
            "Epoch [17/20], Step [500/600], Loss: 0.0002\n",
            "Epoch [17/20], Step [600/600], Loss: 0.0177\n",
            "Epoch [18/20], Step [100/600], Loss: 0.0027\n",
            "Epoch [18/20], Step [200/600], Loss: 0.0005\n",
            "Epoch [18/20], Step [300/600], Loss: 0.0016\n",
            "Epoch [18/20], Step [400/600], Loss: 0.0021\n",
            "Epoch [18/20], Step [500/600], Loss: 0.0022\n",
            "Epoch [18/20], Step [600/600], Loss: 0.0002\n",
            "Epoch [19/20], Step [100/600], Loss: 0.0110\n",
            "Epoch [19/20], Step [200/600], Loss: 0.0144\n",
            "Epoch [19/20], Step [300/600], Loss: 0.0021\n",
            "Epoch [19/20], Step [400/600], Loss: 0.0202\n",
            "Epoch [19/20], Step [500/600], Loss: 0.0005\n",
            "Epoch [19/20], Step [600/600], Loss: 0.0005\n",
            "Epoch [20/20], Step [100/600], Loss: 0.0055\n",
            "Epoch [20/20], Step [200/600], Loss: 0.0001\n",
            "Epoch [20/20], Step [300/600], Loss: 0.0013\n",
            "Epoch [20/20], Step [400/600], Loss: 0.0001\n",
            "Epoch [20/20], Step [500/600], Loss: 0.0013\n",
            "Epoch [20/20], Step [600/600], Loss: 0.0002\n"
          ]
        }
      ]
    },
    {
      "metadata": {
        "id": "DTPvMW5jHB9X",
        "colab": {
          "base_uri": "https://localhost:8080/"
        },
        "outputId": "0baa9acd-8c41-45e7-f134-c713418886ec"
      },
      "cell_type": "code",
      "source": [
        "#@title Evaluating the accuracy of the model\n",
        "\n",
        "correct = 0\n",
        "total = 0\n",
        "for images,labels in test_gen:\n",
        "  images = Variable(images.view(-1,28*28)).cuda()\n",
        "  labels = labels.cuda()\n",
        "\n",
        "  output = net(images)\n",
        "  _, predicted = torch.max(output,1)\n",
        "  correct += (predicted == labels).sum()\n",
        "  total += labels.size(0)\n",
        "\n",
        "print('Accuracy of the model: %.3f %%' %((100*correct)/(total+1)))"
      ],
      "execution_count": 183,
      "outputs": [
        {
          "output_type": "stream",
          "name": "stdout",
          "text": [
            "Accuracy of the model: 98.340 %\n"
          ]
        }
      ]
    },
    {
      "cell_type": "code",
      "source": [
        "for k in net.modules():\n",
        "  # print(k, v)\n",
        "  print(k)"
      ],
      "metadata": {
        "colab": {
          "base_uri": "https://localhost:8080/"
        },
        "id": "Bk5G1ZW-Ng68",
        "outputId": "4189231d-db77-44e9-90c7-2d94b543dbe3"
      },
      "execution_count": 184,
      "outputs": [
        {
          "output_type": "stream",
          "name": "stdout",
          "text": [
            "Net(\n",
            "  (fc1): Linear(in_features=784, out_features=500, bias=True)\n",
            "  (relu): ReLU()\n",
            "  (fc2): Linear(in_features=500, out_features=10, bias=True)\n",
            ")\n",
            "Linear(in_features=784, out_features=500, bias=True)\n",
            "ReLU()\n",
            "Linear(in_features=500, out_features=10, bias=True)\n"
          ]
        }
      ]
    },
    {
      "cell_type": "code",
      "source": [
        "m = list(net.modules())[1:]\n",
        "m[0].weight.shape, m[0].bias.shape"
      ],
      "metadata": {
        "colab": {
          "base_uri": "https://localhost:8080/"
        },
        "id": "EudVPulbTrd7",
        "outputId": "ca895551-cb87-4b98-effd-93981754747b"
      },
      "execution_count": 185,
      "outputs": [
        {
          "output_type": "execute_result",
          "data": {
            "text/plain": [
              "(torch.Size([500, 784]), torch.Size([500]))"
            ]
          },
          "metadata": {},
          "execution_count": 185
        }
      ]
    },
    {
      "cell_type": "code",
      "source": [
        "images.shape"
      ],
      "metadata": {
        "colab": {
          "base_uri": "https://localhost:8080/"
        },
        "id": "CraB13uGWqgD",
        "outputId": "707c3d2f-43e8-47b7-e1c2-3dccb9fae436"
      },
      "execution_count": 186,
      "outputs": [
        {
          "output_type": "execute_result",
          "data": {
            "text/plain": [
              "torch.Size([100, 784])"
            ]
          },
          "metadata": {},
          "execution_count": 186
        }
      ]
    },
    {
      "cell_type": "code",
      "source": [
        "optimizer.zero_grad()\n",
        "# outputs = net(images)\n",
        "# loss = loss_function(outputs, labels)\n",
        "# outputs = net(images[:10, :])\n",
        "# loss = loss_function(outputs, labels[:10])\n",
        "outputs = net(images[0, :])\n",
        "loss = loss_function(outputs, labels[0])\n",
        "loss.backward()\n",
        "# optimizer.step()"
      ],
      "metadata": {
        "id": "genRVuzKU-qz"
      },
      "execution_count": 199,
      "outputs": []
    },
    {
      "cell_type": "code",
      "source": [
        "m[0].weight.grad.nonzero().shape"
      ],
      "metadata": {
        "colab": {
          "base_uri": "https://localhost:8080/"
        },
        "id": "6snz9B_HVNsz",
        "outputId": "d7dfbbe9-e510-45a9-ef76-d7570bf4eaa5"
      },
      "execution_count": 206,
      "outputs": [
        {
          "output_type": "execute_result",
          "data": {
            "text/plain": [
              "torch.Size([24881, 2])"
            ]
          },
          "metadata": {},
          "execution_count": 206
        }
      ]
    },
    {
      "cell_type": "code",
      "source": [
        "m[0].weight.grad.shape"
      ],
      "metadata": {
        "id": "cB03bJp-J9YD",
        "outputId": "f546144d-835e-43ee-cb19-54e75c22f34e",
        "colab": {
          "base_uri": "https://localhost:8080/"
        }
      },
      "execution_count": 201,
      "outputs": [
        {
          "output_type": "execute_result",
          "data": {
            "text/plain": [
              "torch.Size([500, 784])"
            ]
          },
          "metadata": {},
          "execution_count": 201
        }
      ]
    },
    {
      "cell_type": "code",
      "source": [
        "images[0, :].shape"
      ],
      "metadata": {
        "id": "ntJqCFxrKPGm",
        "outputId": "6a8fccaa-2264-42e0-9fc3-7ae532df9b54",
        "colab": {
          "base_uri": "https://localhost:8080/"
        }
      },
      "execution_count": 203,
      "outputs": [
        {
          "output_type": "execute_result",
          "data": {
            "text/plain": [
              "torch.Size([784])"
            ]
          },
          "metadata": {},
          "execution_count": 203
        }
      ]
    },
    {
      "cell_type": "code",
      "source": [
        "m[2].weight.grad.shape"
      ],
      "metadata": {
        "collapsed": true,
        "id": "KKYLWIBiKABD",
        "outputId": "e92151ea-33fd-4a54-a021-f339af7c5d93",
        "colab": {
          "base_uri": "https://localhost:8080/"
        }
      },
      "execution_count": 217,
      "outputs": [
        {
          "output_type": "execute_result",
          "data": {
            "text/plain": [
              "torch.Size([10, 500])"
            ]
          },
          "metadata": {},
          "execution_count": 217
        }
      ]
    },
    {
      "cell_type": "code",
      "source": [
        "m[2].bias.grad"
      ],
      "metadata": {
        "id": "LPjCtPrXMct0",
        "outputId": "b4558397-7146-4fb8-a307-33ea56543aa5",
        "colab": {
          "base_uri": "https://localhost:8080/"
        }
      },
      "execution_count": 219,
      "outputs": [
        {
          "output_type": "execute_result",
          "data": {
            "text/plain": [
              "tensor([ 1.5829e-11,  2.2958e-09,  3.2855e-07,  1.7072e-06,  2.6753e-13,\n",
              "         8.4085e-08,  1.0949e-09,  1.8328e-13, -2.1458e-06,  8.5576e-13],\n",
              "       device='cuda:0')"
            ]
          },
          "metadata": {},
          "execution_count": 219
        }
      ]
    },
    {
      "cell_type": "code",
      "source": [
        "# correct shape already\n",
        "e = torch.nn.functional.one_hot(labels[0], num_classes).unsqueeze(0)"
      ],
      "metadata": {
        "id": "AdOHE4YaWuIa"
      },
      "execution_count": 229,
      "outputs": []
    },
    {
      "cell_type": "code",
      "source": [
        "(o - e).T *"
      ],
      "metadata": {
        "id": "KlLUANO2WweB",
        "outputId": "0e3b762a-f539-4b72-999a-54fd26eff787",
        "colab": {
          "base_uri": "https://localhost:8080/"
        }
      },
      "execution_count": 232,
      "outputs": [
        {
          "output_type": "execute_result",
          "data": {
            "text/plain": [
              "torch.Size([1, 10])"
            ]
          },
          "metadata": {},
          "execution_count": 232
        }
      ]
    },
    {
      "cell_type": "code",
      "source": [
        "m[0].forward()"
      ],
      "metadata": {
        "id": "_SFMfcvrXWlm"
      },
      "execution_count": null,
      "outputs": []
    },
    {
      "cell_type": "code",
      "source": [
        "m[0].bias.grad.nonzero().shape"
      ],
      "metadata": {
        "colab": {
          "base_uri": "https://localhost:8080/"
        },
        "id": "XbOzGEH3h0Wy",
        "outputId": "408edfbb-667f-4717-c18f-e97bfe273a66"
      },
      "execution_count": 189,
      "outputs": [
        {
          "output_type": "execute_result",
          "data": {
            "text/plain": [
              "torch.Size([471, 1])"
            ]
          },
          "metadata": {},
          "execution_count": 189
        }
      ]
    },
    {
      "cell_type": "code",
      "source": [
        "m[2].weight.grad.nonzero().shape"
      ],
      "metadata": {
        "colab": {
          "base_uri": "https://localhost:8080/"
        },
        "id": "YTT33hjOh23B",
        "outputId": "48cef465-22c7-4978-ac2d-e403b0658461"
      },
      "execution_count": 190,
      "outputs": [
        {
          "output_type": "execute_result",
          "data": {
            "text/plain": [
              "torch.Size([4708, 2])"
            ]
          },
          "metadata": {},
          "execution_count": 190
        }
      ]
    },
    {
      "cell_type": "code",
      "source": [
        "optimizer.zero_grad()"
      ],
      "metadata": {
        "id": "i50qUhudWgv0"
      },
      "execution_count": 191,
      "outputs": []
    },
    {
      "cell_type": "code",
      "source": [
        "with torch.no_grad():\n",
        "  o = net(images[0, :].unsqueeze(0))\n",
        "  print(o)"
      ],
      "metadata": {
        "colab": {
          "base_uri": "https://localhost:8080/"
        },
        "id": "JE6-n_fNWoOr",
        "outputId": "a6cbf521-df5f-439c-f2ee-693d3ce02272"
      },
      "execution_count": 227,
      "outputs": [
        {
          "output_type": "stream",
          "name": "stdout",
          "text": [
            "tensor([[-13.9104,  -8.9335,  -3.9699,  -2.3219, -17.9908,  -5.3327,  -9.6739,\n",
            "         -18.3690,  10.9587, -16.8281]], device='cuda:0')\n"
          ]
        }
      ]
    },
    {
      "cell_type": "code",
      "source": [],
      "metadata": {
        "colab": {
          "base_uri": "https://localhost:8080/"
        },
        "id": "dAMO8u7_W-y7",
        "outputId": "33484320-795b-49d0-828a-d53d09d55ff1"
      },
      "execution_count": 122,
      "outputs": [
        {
          "output_type": "execute_result",
          "data": {
            "text/plain": [
              "tensor([[-17.4796, -11.2568,  -7.1091,  -4.2298, -20.6758,  -8.2732, -16.1996,\n",
              "         -35.7887,  15.9743, -24.6586]], device='cuda:0')"
            ]
          },
          "metadata": {},
          "execution_count": 122
        }
      ]
    },
    {
      "cell_type": "markdown",
      "source": [
        "### Quick Manual Repro of Forward"
      ],
      "metadata": {
        "id": "Livw5mmIXhEw"
      }
    },
    {
      "cell_type": "code",
      "source": [
        "# W * x + b\n",
        "# W = (ninput x nhidden1)\n",
        "# x = (ninput)\n",
        "# b = nhidden1\n",
        "h1 = torch.matmul(m[0].weight, images[0, :]) + m[0].bias\n",
        "h1[h1 < 0] = 0.0\n",
        "manual_o = torch.matmul(m[2].weight, h1) + m[2].bias"
      ],
      "metadata": {
        "collapsed": true,
        "id": "dnV_OXq3XaiX"
      },
      "execution_count": 154,
      "outputs": []
    },
    {
      "cell_type": "code",
      "source": [
        "# doesn't work after relu\n",
        "# torch.allclose(h1, m[0].forward(images[0, :]))"
      ],
      "metadata": {
        "colab": {
          "base_uri": "https://localhost:8080/"
        },
        "id": "cJ1XjI3WX_TR",
        "outputId": "3b5129ad-6ed5-4fa8-e29c-53159717cb85"
      },
      "execution_count": 153,
      "outputs": [
        {
          "output_type": "execute_result",
          "data": {
            "text/plain": [
              "False"
            ]
          },
          "metadata": {},
          "execution_count": 153
        }
      ]
    },
    {
      "cell_type": "code",
      "source": [
        "torch.allclose(o, manual_o)"
      ],
      "metadata": {
        "colab": {
          "base_uri": "https://localhost:8080/"
        },
        "id": "Ky6-G3ybYZF6",
        "outputId": "03651285-a737-4d22-f5b9-0fa5d36582ab"
      },
      "execution_count": 155,
      "outputs": [
        {
          "output_type": "execute_result",
          "data": {
            "text/plain": [
              "True"
            ]
          },
          "metadata": {},
          "execution_count": 155
        }
      ]
    },
    {
      "cell_type": "code",
      "source": [
        "torch.softmax(o, 1)"
      ],
      "metadata": {
        "colab": {
          "base_uri": "https://localhost:8080/"
        },
        "id": "zNFkYwhqYwB7",
        "outputId": "82d3ec0a-60c2-45f1-a1dc-c5c5cd96cdb4"
      },
      "execution_count": 159,
      "outputs": [
        {
          "output_type": "execute_result",
          "data": {
            "text/plain": [
              "tensor([[2.9590e-15, 1.4917e-12, 9.4407e-11, 1.6806e-09, 1.2108e-16, 2.9473e-11,\n",
              "         1.0643e-14, 3.3082e-23, 1.0000e+00, 2.2560e-18]], device='cuda:0')"
            ]
          },
          "metadata": {},
          "execution_count": 159
        }
      ]
    },
    {
      "cell_type": "code",
      "source": [
        "o"
      ],
      "metadata": {
        "colab": {
          "base_uri": "https://localhost:8080/"
        },
        "id": "Dc6hPVpDb-CD",
        "outputId": "6b0b373b-d2b9-425c-d856-09cd435fd213"
      },
      "execution_count": 160,
      "outputs": [
        {
          "output_type": "execute_result",
          "data": {
            "text/plain": [
              "tensor([[-17.4796, -11.2568,  -7.1091,  -4.2298, -20.6758,  -8.2732, -16.1996,\n",
              "         -35.7887,  15.9743, -24.6586]], device='cuda:0')"
            ]
          },
          "metadata": {},
          "execution_count": 160
        }
      ]
    },
    {
      "cell_type": "code",
      "source": [
        "m[1]."
      ],
      "metadata": {
        "colab": {
          "base_uri": "https://localhost:8080/",
          "height": 263
        },
        "id": "BnI_SWsPcGEm",
        "outputId": "c07117c4-5266-4bda-8988-ce78e3e8f926"
      },
      "execution_count": 215,
      "outputs": [
        {
          "output_type": "error",
          "ename": "AttributeError",
          "evalue": "'ReLU' object has no attribute 'grad'",
          "traceback": [
            "\u001b[0;31m---------------------------------------------------------------------------\u001b[0m",
            "\u001b[0;31mAttributeError\u001b[0m                            Traceback (most recent call last)",
            "\u001b[0;32m<ipython-input-215-10a25016de54>\u001b[0m in \u001b[0;36m<cell line: 1>\u001b[0;34m()\u001b[0m\n\u001b[0;32m----> 1\u001b[0;31m \u001b[0mm\u001b[0m\u001b[0;34m[\u001b[0m\u001b[0;36m1\u001b[0m\u001b[0;34m]\u001b[0m\u001b[0;34m.\u001b[0m\u001b[0mgrad\u001b[0m\u001b[0;34m\u001b[0m\u001b[0;34m\u001b[0m\u001b[0m\n\u001b[0m",
            "\u001b[0;32m/usr/local/lib/python3.10/dist-packages/torch/nn/modules/module.py\u001b[0m in \u001b[0;36m__getattr__\u001b[0;34m(self, name)\u001b[0m\n\u001b[1;32m   1929\u001b[0m             \u001b[0;32mif\u001b[0m \u001b[0mname\u001b[0m \u001b[0;32min\u001b[0m \u001b[0mmodules\u001b[0m\u001b[0;34m:\u001b[0m\u001b[0;34m\u001b[0m\u001b[0;34m\u001b[0m\u001b[0m\n\u001b[1;32m   1930\u001b[0m                 \u001b[0;32mreturn\u001b[0m \u001b[0mmodules\u001b[0m\u001b[0;34m[\u001b[0m\u001b[0mname\u001b[0m\u001b[0;34m]\u001b[0m\u001b[0;34m\u001b[0m\u001b[0;34m\u001b[0m\u001b[0m\n\u001b[0;32m-> 1931\u001b[0;31m         raise AttributeError(\n\u001b[0m\u001b[1;32m   1932\u001b[0m             \u001b[0;34mf\"'{type(self).__name__}' object has no attribute '{name}'\"\u001b[0m\u001b[0;34m\u001b[0m\u001b[0;34m\u001b[0m\u001b[0m\n\u001b[1;32m   1933\u001b[0m         )\n",
            "\u001b[0;31mAttributeError\u001b[0m: 'ReLU' object has no attribute 'grad'"
          ]
        }
      ]
    },
    {
      "cell_type": "code",
      "source": [],
      "metadata": {
        "id": "DSxjWUWLQzgP"
      },
      "execution_count": null,
      "outputs": []
    }
  ]
}